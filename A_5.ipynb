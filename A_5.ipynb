{
 "cells": [
  {
   "cell_type": "markdown",
   "id": "440f449e-a006-4134-8c87-34e8cf365a73",
   "metadata": {},
   "source": [
    "Akbar Abdurakhmonov </br> Assignment #5 </br> Polynomial regression and regularization"
   ]
  },
  {
   "cell_type": "markdown",
   "id": "c2c4c521-214e-4ec4-bb37-35d0f068f42b",
   "metadata": {},
   "source": [
    "### 1 A"
   ]
  },
  {
   "cell_type": "code",
   "execution_count": 45,
   "id": "6bebd188-f276-476f-bdbf-73ba49d264f9",
   "metadata": {},
   "outputs": [
    {
     "data": {
      "text/html": [
       "<div>\n",
       "<style scoped>\n",
       "    .dataframe tbody tr th:only-of-type {\n",
       "        vertical-align: middle;\n",
       "    }\n",
       "\n",
       "    .dataframe tbody tr th {\n",
       "        vertical-align: top;\n",
       "    }\n",
       "\n",
       "    .dataframe thead th {\n",
       "        text-align: right;\n",
       "    }\n",
       "</style>\n",
       "<table border=\"1\" class=\"dataframe\">\n",
       "  <thead>\n",
       "    <tr style=\"text-align: right;\">\n",
       "      <th></th>\n",
       "      <th>x1</th>\n",
       "      <th>x2</th>\n",
       "    </tr>\n",
       "  </thead>\n",
       "  <tbody>\n",
       "    <tr>\n",
       "      <th>0</th>\n",
       "      <td>1</td>\n",
       "      <td>10</td>\n",
       "    </tr>\n",
       "    <tr>\n",
       "      <th>1</th>\n",
       "      <td>-1</td>\n",
       "      <td>-10</td>\n",
       "    </tr>\n",
       "    <tr>\n",
       "      <th>2</th>\n",
       "      <td>2</td>\n",
       "      <td>-10</td>\n",
       "    </tr>\n",
       "    <tr>\n",
       "      <th>3</th>\n",
       "      <td>-2</td>\n",
       "      <td>10</td>\n",
       "    </tr>\n",
       "    <tr>\n",
       "      <th>4</th>\n",
       "      <td>2</td>\n",
       "      <td>1</td>\n",
       "    </tr>\n",
       "  </tbody>\n",
       "</table>\n",
       "</div>"
      ],
      "text/plain": [
       "   x1  x2\n",
       "0   1  10\n",
       "1  -1 -10\n",
       "2   2 -10\n",
       "3  -2  10\n",
       "4   2   1"
      ]
     },
     "execution_count": 45,
     "metadata": {},
     "output_type": "execute_result"
    }
   ],
   "source": [
    "import pandas as pd\n",
    "\n",
    "data = {\n",
    "    'x1': [1, -1, 2, -2, 2],\n",
    "    'x2': [10, -10, -10, 10, 1]\n",
    "}\n",
    "\n",
    "df = pd.DataFrame(data)\n",
    "df"
   ]
  },
  {
   "cell_type": "markdown",
   "id": "5b2560dd-a1cf-4070-a368-1230aae2f3b0",
   "metadata": {},
   "source": [
    "### 1 B"
   ]
  },
  {
   "cell_type": "markdown",
   "id": "3918d6fe-4e42-4bc1-92a9-0dc71dcf2a58",
   "metadata": {},
   "source": [
    "### y = $a_{0}$ + $a_{1}$$x_{1}$ + $a_{2}$$x_{2}$ + $a_{3}$$x_{1}^{2}$ + $a_{4}$$x_{1}$$x_{2}$ + $a_{5}$$x_{2}^{2}$ + $a_{6}$$x_{1}^{3}$ + $a_{7}$$x_{1}^{2}$$x_{2}$ + $a_{8}$$x_{1}$$x_{2}^{2}$ + $a_{9}$$x_{2}^{3}$ + $a_{10}$$x_{1}^{4}$ + $a_{11}$$x_{1}^{3}$$x_{2}$ + $a_{12}$$x_{1}^{2}$$x_{2}^{2}$ + $a_{13}$$x_{1}$$x_{2}^{3}$ + $a_{14}$$x_{2}^{4}$\n"
   ]
  },
  {
   "cell_type": "markdown",
   "id": "5db1fd2d-5bb0-4ab3-9d4e-fc88af7462ca",
   "metadata": {},
   "source": [
    "### 1 C"
   ]
  },
  {
   "cell_type": "code",
   "execution_count": 46,
   "id": "19b0d904-a275-4f0b-9eaf-d471950f9cf8",
   "metadata": {},
   "outputs": [
    {
     "data": {
      "text/html": [
       "<div>\n",
       "<style scoped>\n",
       "    .dataframe tbody tr th:only-of-type {\n",
       "        vertical-align: middle;\n",
       "    }\n",
       "\n",
       "    .dataframe tbody tr th {\n",
       "        vertical-align: top;\n",
       "    }\n",
       "\n",
       "    .dataframe thead th {\n",
       "        text-align: right;\n",
       "    }\n",
       "</style>\n",
       "<table border=\"1\" class=\"dataframe\">\n",
       "  <thead>\n",
       "    <tr style=\"text-align: right;\">\n",
       "      <th></th>\n",
       "      <th>x1</th>\n",
       "      <th>x2</th>\n",
       "      <th>(x1)^2</th>\n",
       "      <th>(x2)^2</th>\n",
       "      <th>(x1)^3</th>\n",
       "      <th>(x2)^3</th>\n",
       "      <th>(x1)^4</th>\n",
       "      <th>(x1)^2 * (x2)</th>\n",
       "      <th>(x1) * (x2)^2</th>\n",
       "      <th>(x2)^2 * (x1)</th>\n",
       "      <th>(x1)^3 * (x2)</th>\n",
       "      <th>(x1) * (x2)^3</th>\n",
       "    </tr>\n",
       "  </thead>\n",
       "  <tbody>\n",
       "    <tr>\n",
       "      <th>0</th>\n",
       "      <td>1</td>\n",
       "      <td>10</td>\n",
       "      <td>1</td>\n",
       "      <td>100</td>\n",
       "      <td>1</td>\n",
       "      <td>1000</td>\n",
       "      <td>1</td>\n",
       "      <td>10</td>\n",
       "      <td>100</td>\n",
       "      <td>100</td>\n",
       "      <td>10</td>\n",
       "      <td>1000</td>\n",
       "    </tr>\n",
       "    <tr>\n",
       "      <th>1</th>\n",
       "      <td>-1</td>\n",
       "      <td>-10</td>\n",
       "      <td>1</td>\n",
       "      <td>100</td>\n",
       "      <td>-1</td>\n",
       "      <td>-1000</td>\n",
       "      <td>1</td>\n",
       "      <td>-10</td>\n",
       "      <td>-100</td>\n",
       "      <td>-100</td>\n",
       "      <td>10</td>\n",
       "      <td>1000</td>\n",
       "    </tr>\n",
       "    <tr>\n",
       "      <th>2</th>\n",
       "      <td>2</td>\n",
       "      <td>-10</td>\n",
       "      <td>4</td>\n",
       "      <td>100</td>\n",
       "      <td>8</td>\n",
       "      <td>-1000</td>\n",
       "      <td>16</td>\n",
       "      <td>-40</td>\n",
       "      <td>200</td>\n",
       "      <td>200</td>\n",
       "      <td>-80</td>\n",
       "      <td>-2000</td>\n",
       "    </tr>\n",
       "    <tr>\n",
       "      <th>3</th>\n",
       "      <td>-2</td>\n",
       "      <td>10</td>\n",
       "      <td>4</td>\n",
       "      <td>100</td>\n",
       "      <td>-8</td>\n",
       "      <td>1000</td>\n",
       "      <td>16</td>\n",
       "      <td>40</td>\n",
       "      <td>-200</td>\n",
       "      <td>-200</td>\n",
       "      <td>-80</td>\n",
       "      <td>-2000</td>\n",
       "    </tr>\n",
       "    <tr>\n",
       "      <th>4</th>\n",
       "      <td>2</td>\n",
       "      <td>1</td>\n",
       "      <td>4</td>\n",
       "      <td>1</td>\n",
       "      <td>8</td>\n",
       "      <td>1</td>\n",
       "      <td>16</td>\n",
       "      <td>4</td>\n",
       "      <td>2</td>\n",
       "      <td>2</td>\n",
       "      <td>8</td>\n",
       "      <td>2</td>\n",
       "    </tr>\n",
       "  </tbody>\n",
       "</table>\n",
       "</div>"
      ],
      "text/plain": [
       "   x1  x2  (x1)^2  (x2)^2  (x1)^3  (x2)^3  (x1)^4  (x1)^2 * (x2)  \\\n",
       "0   1  10       1     100       1    1000       1             10   \n",
       "1  -1 -10       1     100      -1   -1000       1            -10   \n",
       "2   2 -10       4     100       8   -1000      16            -40   \n",
       "3  -2  10       4     100      -8    1000      16             40   \n",
       "4   2   1       4       1       8       1      16              4   \n",
       "\n",
       "   (x1) * (x2)^2  (x2)^2 * (x1)  (x1)^3 * (x2)  (x1) * (x2)^3  \n",
       "0            100            100             10           1000  \n",
       "1           -100           -100             10           1000  \n",
       "2            200            200            -80          -2000  \n",
       "3           -200           -200            -80          -2000  \n",
       "4              2              2              8              2  "
      ]
     },
     "execution_count": 46,
     "metadata": {},
     "output_type": "execute_result"
    }
   ],
   "source": [
    "# Add polynomial feature combinations up to 4th order\n",
    "df['(x1)^2'] = df['x1'] ** 2\n",
    "df['(x2)^2'] = df['x2'] ** 2\n",
    "df['(x1)^3'] = df['x1'] ** 3\n",
    "df['(x2)^3'] = df['x2'] ** 3\n",
    "df['(x1)^4'] = df['x1'] ** 4\n",
    "df['(x1)^2 * (x2)'] = df['x1'] ** 2 * df['x2']\n",
    "df['(x1) * (x2)^2'] = df['x1'] * df['x2'] ** 2\n",
    "df['(x2)^2 * (x1)'] = df['x2'] ** 2 * df['x1']\n",
    "df['(x1)^3 * (x2)'] = df['x1'] ** 3 * df['x2']\n",
    "df['(x1) * (x2)^3'] = df['x1'] * df['x2'] ** 3\n",
    "\n",
    "df"
   ]
  },
  {
   "cell_type": "markdown",
   "id": "8e6b3fa3-6740-4b57-9d1e-18cff7988df8",
   "metadata": {},
   "source": [
    "### 2 A"
   ]
  },
  {
   "cell_type": "code",
   "execution_count": 56,
   "id": "b53b0ff4-11cb-4378-a688-bead6e4548e3",
   "metadata": {},
   "outputs": [
    {
     "data": {
      "text/html": [
       "<div>\n",
       "<style scoped>\n",
       "    .dataframe tbody tr th:only-of-type {\n",
       "        vertical-align: middle;\n",
       "    }\n",
       "\n",
       "    .dataframe tbody tr th {\n",
       "        vertical-align: top;\n",
       "    }\n",
       "\n",
       "    .dataframe thead th {\n",
       "        text-align: right;\n",
       "    }\n",
       "</style>\n",
       "<table border=\"1\" class=\"dataframe\">\n",
       "  <thead>\n",
       "    <tr style=\"text-align: right;\">\n",
       "      <th></th>\n",
       "      <th>x</th>\n",
       "      <th>y</th>\n",
       "    </tr>\n",
       "  </thead>\n",
       "  <tbody>\n",
       "    <tr>\n",
       "      <th>0</th>\n",
       "      <td>1</td>\n",
       "      <td>2.0</td>\n",
       "    </tr>\n",
       "    <tr>\n",
       "      <th>1</th>\n",
       "      <td>2</td>\n",
       "      <td>2.5</td>\n",
       "    </tr>\n",
       "    <tr>\n",
       "      <th>2</th>\n",
       "      <td>3</td>\n",
       "      <td>6.0</td>\n",
       "    </tr>\n",
       "    <tr>\n",
       "      <th>3</th>\n",
       "      <td>4</td>\n",
       "      <td>14.5</td>\n",
       "    </tr>\n",
       "    <tr>\n",
       "      <th>4</th>\n",
       "      <td>5</td>\n",
       "      <td>34.0</td>\n",
       "    </tr>\n",
       "  </tbody>\n",
       "</table>\n",
       "</div>"
      ],
      "text/plain": [
       "   x     y\n",
       "0  1   2.0\n",
       "1  2   2.5\n",
       "2  3   6.0\n",
       "3  4  14.5\n",
       "4  5  34.0"
      ]
     },
     "execution_count": 56,
     "metadata": {},
     "output_type": "execute_result"
    }
   ],
   "source": [
    "data2 = {\n",
    "    'x': [1, 2, 3, 4, 5],\n",
    "    'y': [2, 2.5, 6, 14.5, 34]\n",
    "}\n",
    "\n",
    "df2 = pd.DataFrame(data2)\n",
    "\n",
    "df2"
   ]
  },
  {
   "cell_type": "markdown",
   "id": "56b21fe6-298a-4959-b757-4b1f7b7c315e",
   "metadata": {},
   "source": [
    "### 2 B"
   ]
  },
  {
   "cell_type": "code",
   "execution_count": 57,
   "id": "6e427fff-02f0-46ba-8b9c-fe1a91b940b1",
   "metadata": {},
   "outputs": [
    {
     "data": {
      "text/html": [
       "<div>\n",
       "<style scoped>\n",
       "    .dataframe tbody tr th:only-of-type {\n",
       "        vertical-align: middle;\n",
       "    }\n",
       "\n",
       "    .dataframe tbody tr th {\n",
       "        vertical-align: top;\n",
       "    }\n",
       "\n",
       "    .dataframe thead th {\n",
       "        text-align: right;\n",
       "    }\n",
       "</style>\n",
       "<table border=\"1\" class=\"dataframe\">\n",
       "  <thead>\n",
       "    <tr style=\"text-align: right;\">\n",
       "      <th></th>\n",
       "      <th>x</th>\n",
       "      <th>y</th>\n",
       "      <th>y_pred</th>\n",
       "    </tr>\n",
       "  </thead>\n",
       "  <tbody>\n",
       "    <tr>\n",
       "      <th>0</th>\n",
       "      <td>1</td>\n",
       "      <td>2.0</td>\n",
       "      <td>1</td>\n",
       "    </tr>\n",
       "    <tr>\n",
       "      <th>1</th>\n",
       "      <td>2</td>\n",
       "      <td>2.5</td>\n",
       "      <td>2</td>\n",
       "    </tr>\n",
       "    <tr>\n",
       "      <th>2</th>\n",
       "      <td>3</td>\n",
       "      <td>6.0</td>\n",
       "      <td>7</td>\n",
       "    </tr>\n",
       "    <tr>\n",
       "      <th>3</th>\n",
       "      <td>4</td>\n",
       "      <td>14.5</td>\n",
       "      <td>16</td>\n",
       "    </tr>\n",
       "    <tr>\n",
       "      <th>4</th>\n",
       "      <td>5</td>\n",
       "      <td>34.0</td>\n",
       "      <td>29</td>\n",
       "    </tr>\n",
       "  </tbody>\n",
       "</table>\n",
       "</div>"
      ],
      "text/plain": [
       "   x     y  y_pred\n",
       "0  1   2.0       1\n",
       "1  2   2.5       2\n",
       "2  3   6.0       7\n",
       "3  4  14.5      16\n",
       "4  5  34.0      29"
      ]
     },
     "execution_count": 57,
     "metadata": {},
     "output_type": "execute_result"
    }
   ],
   "source": [
    "def predict(x):\n",
    "    return 2 * x ** 2 - 5 * x + 4\n",
    "df2['y_pred'] = predict(df2['x'])\n",
    "\n",
    "df2"
   ]
  },
  {
   "cell_type": "markdown",
   "id": "ee0a3f3f-6cf3-4132-b389-0c4151c54e93",
   "metadata": {},
   "source": [
    "### 2 C"
   ]
  },
  {
   "cell_type": "code",
   "execution_count": 58,
   "id": "fbba3d98-4527-4b59-8d84-39faeb07c578",
   "metadata": {},
   "outputs": [
    {
     "name": "stdout",
     "output_type": "stream",
     "text": [
      "MAE: 1.8\n"
     ]
    }
   ],
   "source": [
    "mae = (df2['y'] - df2['y_pred']).abs().mean()\n",
    "\n",
    "print(f'MAE: {mae}')"
   ]
  },
  {
   "cell_type": "markdown",
   "id": "0a50e8fd-229a-468d-9b1a-ee3c6a4c35f9",
   "metadata": {},
   "source": [
    "### 2 D"
   ]
  },
  {
   "cell_type": "code",
   "execution_count": 59,
   "id": "6450ee20-e95e-47fb-ae02-2069d3cf38e9",
   "metadata": {},
   "outputs": [
    {
     "name": "stdout",
     "output_type": "stream",
     "text": [
      "Lasso error: 1.8\n"
     ]
    }
   ],
   "source": [
    "l = 0.\n",
    "lasso_error = mae + l * df2['y_pred'].abs().sum()\n",
    "\n",
    "print(f'Lasso error: {lasso_error}')"
   ]
  },
  {
   "cell_type": "markdown",
   "id": "99560c85-fb54-43c3-8c02-8023b26beefb",
   "metadata": {},
   "source": [
    "### 2 E"
   ]
  },
  {
   "cell_type": "code",
   "execution_count": 60,
   "id": "6a762d2f-4c8a-4ac5-8f26-7325f1c85eb3",
   "metadata": {},
   "outputs": [
    {
     "name": "stdout",
     "output_type": "stream",
     "text": [
      "Ridge error: 1.8\n"
     ]
    }
   ],
   "source": [
    "ridge_error = mae + l * (df2['y_pred'] ** 2).sum()\n",
    "\n",
    "print(f'Ridge error: {ridge_error}')"
   ]
  }
 ],
 "metadata": {
  "kernelspec": {
   "display_name": "Python 3 (ipykernel)",
   "language": "python",
   "name": "python3"
  },
  "language_info": {
   "codemirror_mode": {
    "name": "ipython",
    "version": 3
   },
   "file_extension": ".py",
   "mimetype": "text/x-python",
   "name": "python",
   "nbconvert_exporter": "python",
   "pygments_lexer": "ipython3",
   "version": "3.8.19"
  }
 },
 "nbformat": 4,
 "nbformat_minor": 5
}
