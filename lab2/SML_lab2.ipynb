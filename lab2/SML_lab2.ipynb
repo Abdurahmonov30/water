{
 "cells": [
  {
   "cell_type": "code",
   "execution_count": 75,
   "id": "9bf19e33-4b42-4a60-aecf-fe7a1729c239",
   "metadata": {},
   "outputs": [],
   "source": [
    "import turicreate as tc\n",
    "import pandas as pd\n",
    "import numpy as np\n",
    "import matplotlib.pyplot as plt"
   ]
  },
  {
   "cell_type": "markdown",
   "id": "958cb0a6-9a6b-428c-925e-190937430fa6",
   "metadata": {},
   "source": [
    "# Step 1:"
   ]
  },
  {
   "cell_type": "code",
   "execution_count": 76,
   "id": "19171a74-1ee6-4c0a-a879-9869a8caaf0a",
   "metadata": {},
   "outputs": [
    {
     "data": {
      "text/html": [
       "<pre>Finished parsing file /home/akbar/SML/Lab2/RVT.csv</pre>"
      ],
      "text/plain": [
       "Finished parsing file /home/akbar/SML/Lab2/RVT.csv"
      ]
     },
     "metadata": {},
     "output_type": "display_data"
    },
    {
     "data": {
      "text/html": [
       "<pre>Parsing completed. Parsed 100 lines in 0.009917 secs.</pre>"
      ],
      "text/plain": [
       "Parsing completed. Parsed 100 lines in 0.009917 secs."
      ]
     },
     "metadata": {},
     "output_type": "display_data"
    },
    {
     "name": "stdout",
     "output_type": "stream",
     "text": [
      "------------------------------------------------------\n",
      "Inferred types from first 100 line(s) of file as \n",
      "column_type_hints=[int,float,float,float]\n",
      "If parsing fails due to incorrect types, you can correct\n",
      "the inferred type list above and pass it to read_csv in\n",
      "the column_type_hints argument\n",
      "------------------------------------------------------\n"
     ]
    },
    {
     "data": {
      "text/html": [
       "<pre>Finished parsing file /home/akbar/SML/Lab2/RVT.csv</pre>"
      ],
      "text/plain": [
       "Finished parsing file /home/akbar/SML/Lab2/RVT.csv"
      ]
     },
     "metadata": {},
     "output_type": "display_data"
    },
    {
     "data": {
      "text/html": [
       "<pre>Parsing completed. Parsed 100 lines in 0.005008 secs.</pre>"
      ],
      "text/plain": [
       "Parsing completed. Parsed 100 lines in 0.005008 secs."
      ]
     },
     "metadata": {},
     "output_type": "display_data"
    }
   ],
   "source": [
    "data = tc.SFrame('RVT.csv')"
   ]
  },
  {
   "cell_type": "markdown",
   "id": "43fbd50b-d1fa-4af2-bbb8-79f895c469fe",
   "metadata": {},
   "source": [
    "# Step 2:"
   ]
  },
  {
   "cell_type": "code",
   "execution_count": 44,
   "id": "bfa5616e-a2c4-4134-8b66-bde5cf47979a",
   "metadata": {},
   "outputs": [
    {
     "data": {
      "text/html": [
       "<div style=\"max-height:1000px;max-width:1500px;overflow:auto;\"><table frame=\"box\" rules=\"cols\">\n",
       "    <tr>\n",
       "        <th style=\"padding-left: 1em; padding-right: 1em; text-align: center\">X1</th>\n",
       "        <th style=\"padding-left: 1em; padding-right: 1em; text-align: center\">R</th>\n",
       "        <th style=\"padding-left: 1em; padding-right: 1em; text-align: center\">V</th>\n",
       "        <th style=\"padding-left: 1em; padding-right: 1em; text-align: center\">T</th>\n",
       "        <th style=\"padding-left: 1em; padding-right: 1em; text-align: center\">R^2</th>\n",
       "        <th style=\"padding-left: 1em; padding-right: 1em; text-align: center\">R^3</th>\n",
       "    </tr>\n",
       "    <tr>\n",
       "        <td style=\"padding-left: 1em; padding-right: 1em; text-align: center; vertical-align: top\">0</td>\n",
       "        <td style=\"padding-left: 1em; padding-right: 1em; text-align: center; vertical-align: top\">81.75974500157666</td>\n",
       "        <td style=\"padding-left: 1em; padding-right: 1em; text-align: center; vertical-align: top\">-3.17337489125203</td>\n",
       "        <td style=\"padding-left: 1em; padding-right: 1em; text-align: center; vertical-align: top\">29.467842680840494</td>\n",
       "        <td style=\"padding-left: 1em; padding-right: 1em; text-align: center; vertical-align: top\">6684.6559027228395</td>\n",
       "        <td style=\"padding-left: 1em; padding-right: 1em; text-align: center; vertical-align: top\">546535.7620299036</td>\n",
       "    </tr>\n",
       "    <tr>\n",
       "        <td style=\"padding-left: 1em; padding-right: 1em; text-align: center; vertical-align: top\">1</td>\n",
       "        <td style=\"padding-left: 1em; padding-right: 1em; text-align: center; vertical-align: top\">70.53346486050641</td>\n",
       "        <td style=\"padding-left: 1em; padding-right: 1em; text-align: center; vertical-align: top\">-4.765524444590707</td>\n",
       "        <td style=\"padding-left: 1em; padding-right: 1em; text-align: center; vertical-align: top\">-7.601876111180856</td>\n",
       "        <td style=\"padding-left: 1em; padding-right: 1em; text-align: center; vertical-align: top\">4974.969665228293</td>\n",
       "        <td style=\"padding-left: 1em; padding-right: 1em; text-align: center; vertical-align: top\">350901.84806446516</td>\n",
       "    </tr>\n",
       "    <tr>\n",
       "        <td style=\"padding-left: 1em; padding-right: 1em; text-align: center; vertical-align: top\">2</td>\n",
       "        <td style=\"padding-left: 1em; padding-right: 1em; text-align: center; vertical-align: top\">41.93519103947173</td>\n",
       "        <td style=\"padding-left: 1em; padding-right: 1em; text-align: center; vertical-align: top\">-0.22524276662245768</td>\n",
       "        <td style=\"padding-left: 1em; padding-right: 1em; text-align: center; vertical-align: top\">16.462177210720117</td>\n",
       "        <td style=\"padding-left: 1em; padding-right: 1em; text-align: center; vertical-align: top\">1758.5602475169903</td>\n",
       "        <td style=\"padding-left: 1em; padding-right: 1em; text-align: center; vertical-align: top\">73745.55993404568</td>\n",
       "    </tr>\n",
       "    <tr>\n",
       "        <td style=\"padding-left: 1em; padding-right: 1em; text-align: center; vertical-align: top\">3</td>\n",
       "        <td style=\"padding-left: 1em; padding-right: 1em; text-align: center; vertical-align: top\">28.54727888717895</td>\n",
       "        <td style=\"padding-left: 1em; padding-right: 1em; text-align: center; vertical-align: top\">4.055789636035739</td>\n",
       "        <td style=\"padding-left: 1em; padding-right: 1em; text-align: center; vertical-align: top\">4.3350445142063565</td>\n",
       "        <td style=\"padding-left: 1em; padding-right: 1em; text-align: center; vertical-align: top\">814.9471318623731</td>\n",
       "        <td style=\"padding-left: 1em; padding-right: 1em; text-align: center; vertical-align: top\">23264.523051581764</td>\n",
       "    </tr>\n",
       "    <tr>\n",
       "        <td style=\"padding-left: 1em; padding-right: 1em; text-align: center; vertical-align: top\">4</td>\n",
       "        <td style=\"padding-left: 1em; padding-right: 1em; text-align: center; vertical-align: top\">1.866856419290297</td>\n",
       "        <td style=\"padding-left: 1em; padding-right: 1em; text-align: center; vertical-align: top\">1.5604743994854564</td>\n",
       "        <td style=\"padding-left: 1em; padding-right: 1em; text-align: center; vertical-align: top\">-2.1748995696120916</td>\n",
       "        <td style=\"padding-left: 1em; padding-right: 1em; text-align: center; vertical-align: top\">3.485152890245389</td>\n",
       "        <td style=\"padding-left: 1em; padding-right: 1em; text-align: center; vertical-align: top\">6.506280045362737</td>\n",
       "    </tr>\n",
       "    <tr>\n",
       "        <td style=\"padding-left: 1em; padding-right: 1em; text-align: center; vertical-align: top\">5</td>\n",
       "        <td style=\"padding-left: 1em; padding-right: 1em; text-align: center; vertical-align: top\">5.482682848873466</td>\n",
       "        <td style=\"padding-left: 1em; padding-right: 1em; text-align: center; vertical-align: top\">-2.4269979856718593</td>\n",
       "        <td style=\"padding-left: 1em; padding-right: 1em; text-align: center; vertical-align: top\">-5.908776805668268</td>\n",
       "        <td style=\"padding-left: 1em; padding-right: 1em; text-align: center; vertical-align: top\">30.05981122133127</td>\n",
       "        <td style=\"padding-left: 1em; padding-right: 1em; text-align: center; vertical-align: top\">164.8084114235671</td>\n",
       "    </tr>\n",
       "    <tr>\n",
       "        <td style=\"padding-left: 1em; padding-right: 1em; text-align: center; vertical-align: top\">6</td>\n",
       "        <td style=\"padding-left: 1em; padding-right: 1em; text-align: center; vertical-align: top\">25.505202346164136</td>\n",
       "        <td style=\"padding-left: 1em; padding-right: 1em; text-align: center; vertical-align: top\">0.02583035845730297</td>\n",
       "        <td style=\"padding-left: 1em; padding-right: 1em; text-align: center; vertical-align: top\">6.834325974774764</td>\n",
       "        <td style=\"padding-left: 1em; padding-right: 1em; text-align: center; vertical-align: top\">650.5153467187765</td>\n",
       "        <td style=\"padding-left: 1em; padding-right: 1em; text-align: center; vertical-align: top\">16591.525547347515</td>\n",
       "    </tr>\n",
       "    <tr>\n",
       "        <td style=\"padding-left: 1em; padding-right: 1em; text-align: center; vertical-align: top\">7</td>\n",
       "        <td style=\"padding-left: 1em; padding-right: 1em; text-align: center; vertical-align: top\">89.53883755482829</td>\n",
       "        <td style=\"padding-left: 1em; padding-right: 1em; text-align: center; vertical-align: top\">-2.956148498433293</td>\n",
       "        <td style=\"padding-left: 1em; padding-right: 1em; text-align: center; vertical-align: top\">43.958160132230475</td>\n",
       "        <td style=\"padding-left: 1em; padding-right: 1em; text-align: center; vertical-align: top\">8017.203430669929</td>\n",
       "        <td style=\"padding-left: 1em; padding-right: 1em; text-align: center; vertical-align: top\">717851.0756227669</td>\n",
       "    </tr>\n",
       "    <tr>\n",
       "        <td style=\"padding-left: 1em; padding-right: 1em; text-align: center; vertical-align: top\">8</td>\n",
       "        <td style=\"padding-left: 1em; padding-right: 1em; text-align: center; vertical-align: top\">37.20709101449364</td>\n",
       "        <td style=\"padding-left: 1em; padding-right: 1em; text-align: center; vertical-align: top\">-0.7465745712509309</td>\n",
       "        <td style=\"padding-left: 1em; padding-right: 1em; text-align: center; vertical-align: top\">9.768672734348904</td>\n",
       "        <td style=\"padding-left: 1em; padding-right: 1em; text-align: center; vertical-align: top\">1384.3676217608136</td>\n",
       "        <td style=\"padding-left: 1em; padding-right: 1em; text-align: center; vertical-align: top\">51508.292100372695</td>\n",
       "    </tr>\n",
       "    <tr>\n",
       "        <td style=\"padding-left: 1em; padding-right: 1em; text-align: center; vertical-align: top\">9</td>\n",
       "        <td style=\"padding-left: 1em; padding-right: 1em; text-align: center; vertical-align: top\">0.8923460414945406</td>\n",
       "        <td style=\"padding-left: 1em; padding-right: 1em; text-align: center; vertical-align: top\">4.807160015680399</td>\n",
       "        <td style=\"padding-left: 1em; padding-right: 1em; text-align: center; vertical-align: top\">-24.039518973155182</td>\n",
       "        <td style=\"padding-left: 1em; padding-right: 1em; text-align: center; vertical-align: top\">0.7962814577709763</td>\n",
       "        <td style=\"padding-left: 1em; padding-right: 1em; text-align: center; vertical-align: top\">0.7105586067574329</td>\n",
       "    </tr>\n",
       "</table>\n",
       "<table frame=\"box\" rules=\"cols\">\n",
       "    <tr>\n",
       "        <th style=\"padding-left: 1em; padding-right: 1em; text-align: center\">V^2</th>\n",
       "        <th style=\"padding-left: 1em; padding-right: 1em; text-align: center\">V^3</th>\n",
       "    </tr>\n",
       "    <tr>\n",
       "        <td style=\"padding-left: 1em; padding-right: 1em; text-align: center; vertical-align: top\">10.070308200428832</td>\n",
       "        <td style=\"padding-left: 1em; padding-right: 1em; text-align: center; vertical-align: top\">-31.95686319041027</td>\n",
       "    </tr>\n",
       "    <tr>\n",
       "        <td style=\"padding-left: 1em; padding-right: 1em; text-align: center; vertical-align: top\">22.710223231991563</td>\n",
       "        <td style=\"padding-left: 1em; padding-right: 1em; text-align: center; vertical-align: top\">-108.22612395416755</td>\n",
       "    </tr>\n",
       "    <tr>\n",
       "        <td style=\"padding-left: 1em; padding-right: 1em; text-align: center; vertical-align: top\">0.05073430391573894</td>\n",
       "        <td style=\"padding-left: 1em; padding-right: 1em; text-align: center; vertical-align: top\">-0.011427534976645625</td>\n",
       "    </tr>\n",
       "    <tr>\n",
       "        <td style=\"padding-left: 1em; padding-right: 1em; text-align: center; vertical-align: top\">16.44942957177491</td>\n",
       "        <td style=\"padding-left: 1em; padding-right: 1em; text-align: center; vertical-align: top\">66.71542597590448</td>\n",
       "    </tr>\n",
       "    <tr>\n",
       "        <td style=\"padding-left: 1em; padding-right: 1em; text-align: center; vertical-align: top\">2.435080351449496</td>\n",
       "        <td style=\"padding-left: 1em; padding-right: 1em; text-align: center; vertical-align: top\">3.799880549126986</td>\n",
       "    </tr>\n",
       "    <tr>\n",
       "        <td style=\"padding-left: 1em; padding-right: 1em; text-align: center; vertical-align: top\">5.890319222455263</td>\n",
       "        <td style=\"padding-left: 1em; padding-right: 1em; text-align: center; vertical-align: top\">-14.295792887863154</td>\n",
       "    </tr>\n",
       "    <tr>\n",
       "        <td style=\"padding-left: 1em; padding-right: 1em; text-align: center; vertical-align: top\">0.0006672074180327631</td>\n",
       "        <td style=\"padding-left: 1em; padding-right: 1em; text-align: center; vertical-align: top\">1.7234206773157862e-05</td>\n",
       "    </tr>\n",
       "    <tr>\n",
       "        <td style=\"padding-left: 1em; padding-right: 1em; text-align: center; vertical-align: top\">8.738813944789413</td>\n",
       "        <td style=\"padding-left: 1em; padding-right: 1em; text-align: center; vertical-align: top\">-25.833231720977146</td>\n",
       "    </tr>\n",
       "    <tr>\n",
       "        <td style=\"padding-left: 1em; padding-right: 1em; text-align: center; vertical-align: top\">0.5573735904385112</td>\n",
       "        <td style=\"padding-left: 1em; padding-right: 1em; text-align: center; vertical-align: top\">-0.41612094930822346</td>\n",
       "    </tr>\n",
       "    <tr>\n",
       "        <td style=\"padding-left: 1em; padding-right: 1em; text-align: center; vertical-align: top\">23.10878741635637</td>\n",
       "        <td style=\"padding-left: 1em; padding-right: 1em; text-align: center; vertical-align: top\">111.0876388787667</td>\n",
       "    </tr>\n",
       "</table>\n",
       "[100 rows x 8 columns]<br/>Note: Only the head of the SFrame is printed.<br/>You can use print_rows(num_rows=m, num_columns=n) to print more rows and columns.\n",
       "</div>"
      ],
      "text/plain": [
       "Columns:\n",
       "\tX1\tint\n",
       "\tR\tfloat\n",
       "\tV\tfloat\n",
       "\tT\tfloat\n",
       "\tR^2\tfloat\n",
       "\tR^3\tfloat\n",
       "\tV^2\tfloat\n",
       "\tV^3\tfloat\n",
       "\n",
       "Rows: 100\n",
       "\n",
       "Data:\n",
       "+----+--------------------+----------------------+---------------------+\n",
       "| X1 |         R          |          V           |          T          |\n",
       "+----+--------------------+----------------------+---------------------+\n",
       "| 0  | 81.75974500157666  |  -3.17337489125203   |  29.467842680840494 |\n",
       "| 1  | 70.53346486050641  |  -4.765524444590707  |  -7.601876111180856 |\n",
       "| 2  | 41.93519103947173  | -0.22524276662245768 |  16.462177210720117 |\n",
       "| 3  | 28.54727888717895  |  4.055789636035739   |  4.3350445142063565 |\n",
       "| 4  | 1.866856419290297  |  1.5604743994854564  | -2.1748995696120916 |\n",
       "| 5  | 5.482682848873466  | -2.4269979856718593  |  -5.908776805668268 |\n",
       "| 6  | 25.505202346164136 | 0.02583035845730297  |  6.834325974774764  |\n",
       "| 7  | 89.53883755482829  |  -2.956148498433293  |  43.958160132230475 |\n",
       "| 8  | 37.20709101449364  | -0.7465745712509309  |  9.768672734348904  |\n",
       "| 9  | 0.8923460414945406 |  4.807160015680399   | -24.039518973155182 |\n",
       "+----+--------------------+----------------------+---------------------+\n",
       "+--------------------+--------------------+-----------------------+\n",
       "|        R^2         |        R^3         |          V^2          |\n",
       "+--------------------+--------------------+-----------------------+\n",
       "| 6684.6559027228395 | 546535.7620299036  |   10.070308200428832  |\n",
       "| 4974.969665228293  | 350901.84806446516 |   22.710223231991563  |\n",
       "| 1758.5602475169903 | 73745.55993404568  |  0.05073430391573894  |\n",
       "| 814.9471318623731  | 23264.523051581764 |   16.44942957177491   |\n",
       "| 3.485152890245389  | 6.506280045362737  |   2.435080351449496   |\n",
       "| 30.05981122133127  | 164.8084114235671  |   5.890319222455263   |\n",
       "| 650.5153467187765  | 16591.525547347515 | 0.0006672074180327631 |\n",
       "| 8017.203430669929  | 717851.0756227669  |   8.738813944789413   |\n",
       "| 1384.3676217608136 | 51508.292100372695 |   0.5573735904385112  |\n",
       "| 0.7962814577709763 | 0.7105586067574329 |   23.10878741635637   |\n",
       "+--------------------+--------------------+-----------------------+\n",
       "+------------------------+\n",
       "|          V^3           |\n",
       "+------------------------+\n",
       "|   -31.95686319041027   |\n",
       "|  -108.22612395416755   |\n",
       "| -0.011427534976645625  |\n",
       "|   66.71542597590448    |\n",
       "|   3.799880549126986    |\n",
       "|  -14.295792887863154   |\n",
       "| 1.7234206773157862e-05 |\n",
       "|  -25.833231720977146   |\n",
       "|  -0.41612094930822346  |\n",
       "|   111.0876388787667    |\n",
       "+------------------------+\n",
       "[100 rows x 8 columns]\n",
       "Note: Only the head of the SFrame is printed.\n",
       "You can use print_rows(num_rows=m, num_columns=n) to print more rows and columns."
      ]
     },
     "execution_count": 44,
     "metadata": {},
     "output_type": "execute_result"
    }
   ],
   "source": [
    "data['R^2'] = data['R'] ** 2\n",
    "data['R^3'] = data['R'] ** 3\n",
    "data['V^2'] = data['V'] ** 2\n",
    "data['V^3'] = data['V'] ** 3\n",
    "\n",
    "data"
   ]
  },
  {
   "cell_type": "code",
   "execution_count": 51,
   "id": "03bd89eb-dfe7-44df-878f-ab84c0bb0622",
   "metadata": {},
   "outputs": [
    {
     "name": "stdout",
     "output_type": "stream",
     "text": [
      "70\n",
      "20\n",
      "10\n"
     ]
    }
   ],
   "source": [
    "train_data, temp_data = data.random_split(0.7, seed=21) #tried different seed values\n",
    "validation_data, test_data = temp_data.random_split(0.7, seed=2) #so these seed values will make us 70/20/10\n",
    "\n",
    "print(len(train_data))\n",
    "print(len(val_data))\n",
    "print(len(test_data))"
   ]
  },
  {
   "cell_type": "markdown",
   "id": "fa468b80-7352-4947-a32e-e3340a15bb54",
   "metadata": {},
   "source": [
    "# Step 3:"
   ]
  },
  {
   "cell_type": "code",
   "execution_count": 64,
   "id": "8cf768e1-270b-43ca-ad72-5788a4ab949f",
   "metadata": {},
   "outputs": [
    {
     "name": "stdout",
     "output_type": "stream",
     "text": [
      "Training RMSE: 12.221671588972356\n",
      "Validation RMSE: 14.949126419069314\n"
     ]
    }
   ],
   "source": [
    "model1 = tc.linear_regression.create(train_data, target='T', features=['R', 'V'], l1_penalty=0.0, l2_penalty=0.0, validation_set=None,verbose=False)\n",
    "\n",
    "train_rmse = model1.evaluate(train_data)['rmse']\n",
    "validation_rmse = model1.evaluate(validation_data)['rmse']\n",
    "\n",
    "print(\"Training RMSE:\", train_rmse)\n",
    "print(\"Validation RMSE:\", validation_rmse)"
   ]
  },
  {
   "cell_type": "markdown",
   "id": "bc467b77-2777-46ec-90f4-f013a9e09565",
   "metadata": {},
   "source": [
    "# Step 4:"
   ]
  },
  {
   "cell_type": "code",
   "execution_count": 69,
   "id": "c725c854-e18e-421f-bb2c-00604ace6945",
   "metadata": {},
   "outputs": [
    {
     "name": "stdout",
     "output_type": "stream",
     "text": [
      "Training RMSE: 7.070236968777678\n",
      "Validation RMSE: 8.420199164589365\n"
     ]
    }
   ],
   "source": [
    "model2 = tc.linear_regression.create(train_data, target='T', features=['R', 'V', 'R^2', 'V^2'],l1_penalty=0.0, l2_penalty=0.0, validation_set=None,verbose=False)\n",
    "\n",
    "train_rmse = model2.evaluate(train_data)['rmse']\n",
    "validation_rmse = model2.evaluate(validation_data)['rmse']\n",
    "\n",
    "print(\"Training RMSE:\", train_rmse)\n",
    "print(\"Validation RMSE:\", validation_rmse)"
   ]
  },
  {
   "cell_type": "markdown",
   "id": "d94fd196-124d-4cea-abb5-aa78a96fc048",
   "metadata": {},
   "source": [
    "# Step 5:"
   ]
  },
  {
   "cell_type": "code",
   "execution_count": 70,
   "id": "09fcd8bf-49af-457c-84ac-0984fd36b7f0",
   "metadata": {},
   "outputs": [
    {
     "name": "stdout",
     "output_type": "stream",
     "text": [
      "Training RMSE: 7.030364711634121\n",
      "Validation RMSE: 8.492214785799089\n"
     ]
    }
   ],
   "source": [
    "model3 = tc.linear_regression.create(train_data, target='T', features=['R', 'V', 'R^2', 'V^2', 'R^3', 'V^3'],l1_penalty=0.0, l2_penalty=0.0, validation_set=None,verbose=False)\n",
    "\n",
    "train_rmse = model3.evaluate(train_data)['rmse']\n",
    "validation_rmse = model3.evaluate(validation_data)['rmse']\n",
    "\n",
    "print(\"Training RMSE:\", train_rmse)\n",
    "print(\"Validation RMSE:\", validation_rmse)"
   ]
  },
  {
   "cell_type": "markdown",
   "id": "0b66e2a4-301c-4c74-aa6d-3cb90c6b9ecb",
   "metadata": {},
   "source": [
    "# Step 6:"
   ]
  },
  {
   "cell_type": "markdown",
   "id": "9a7b56ca-ca81-49de-b39d-66cc528e29f5",
   "metadata": {},
   "source": [
    "1) underfitting\n",
    "2) best balance\n",
    "3) overfitting"
   ]
  },
  {
   "cell_type": "markdown",
   "id": "a0289bc9-99ef-4892-b104-5576645ba8ca",
   "metadata": {},
   "source": [
    "# Step 7:"
   ]
  },
  {
   "cell_type": "code",
   "execution_count": 73,
   "id": "636b1473-a287-414f-9a40-21e8c855ef14",
   "metadata": {},
   "outputs": [
    {
     "data": {
      "text/html": [
       "<pre>Linear regression:</pre>"
      ],
      "text/plain": [
       "Linear regression:"
      ]
     },
     "metadata": {},
     "output_type": "display_data"
    },
    {
     "data": {
      "text/html": [
       "<pre>--------------------------------------------------------</pre>"
      ],
      "text/plain": [
       "--------------------------------------------------------"
      ]
     },
     "metadata": {},
     "output_type": "display_data"
    },
    {
     "data": {
      "text/html": [
       "<pre>Number of examples          : 70</pre>"
      ],
      "text/plain": [
       "Number of examples          : 70"
      ]
     },
     "metadata": {},
     "output_type": "display_data"
    },
    {
     "data": {
      "text/html": [
       "<pre>Number of features          : 6</pre>"
      ],
      "text/plain": [
       "Number of features          : 6"
      ]
     },
     "metadata": {},
     "output_type": "display_data"
    },
    {
     "data": {
      "text/html": [
       "<pre>Number of unpacked features : 6</pre>"
      ],
      "text/plain": [
       "Number of unpacked features : 6"
      ]
     },
     "metadata": {},
     "output_type": "display_data"
    },
    {
     "data": {
      "text/html": [
       "<pre>Number of coefficients    : 7</pre>"
      ],
      "text/plain": [
       "Number of coefficients    : 7"
      ]
     },
     "metadata": {},
     "output_type": "display_data"
    },
    {
     "data": {
      "text/html": [
       "<pre>Starting Newton Method</pre>"
      ],
      "text/plain": [
       "Starting Newton Method"
      ]
     },
     "metadata": {},
     "output_type": "display_data"
    },
    {
     "data": {
      "text/html": [
       "<pre>--------------------------------------------------------</pre>"
      ],
      "text/plain": [
       "--------------------------------------------------------"
      ]
     },
     "metadata": {},
     "output_type": "display_data"
    },
    {
     "data": {
      "text/html": [
       "<pre>+-----------+----------+--------------+--------------------+----------------------+---------------------------------+-----------------------------------+</pre>"
      ],
      "text/plain": [
       "+-----------+----------+--------------+--------------------+----------------------+---------------------------------+-----------------------------------+"
      ]
     },
     "metadata": {},
     "output_type": "display_data"
    },
    {
     "data": {
      "text/html": [
       "<pre>| Iteration | Passes   | Elapsed Time | Training Max Error | Validation Max Error | Training Root-Mean-Square Error | Validation Root-Mean-Square Error |</pre>"
      ],
      "text/plain": [
       "| Iteration | Passes   | Elapsed Time | Training Max Error | Validation Max Error | Training Root-Mean-Square Error | Validation Root-Mean-Square Error |"
      ]
     },
     "metadata": {},
     "output_type": "display_data"
    },
    {
     "data": {
      "text/html": [
       "<pre>+-----------+----------+--------------+--------------------+----------------------+---------------------------------+-----------------------------------+</pre>"
      ],
      "text/plain": [
       "+-----------+----------+--------------+--------------------+----------------------+---------------------------------+-----------------------------------+"
      ]
     },
     "metadata": {},
     "output_type": "display_data"
    },
    {
     "data": {
      "text/html": [
       "<pre>| 1         | 2        | 0.000949     | 20.721414          | 19.280528            | 7.035657                        | 8.319543                          |</pre>"
      ],
      "text/plain": [
       "| 1         | 2        | 0.000949     | 20.721414          | 19.280528            | 7.035657                        | 8.319543                          |"
      ]
     },
     "metadata": {},
     "output_type": "display_data"
    },
    {
     "data": {
      "text/html": [
       "<pre>+-----------+----------+--------------+--------------------+----------------------+---------------------------------+-----------------------------------+</pre>"
      ],
      "text/plain": [
       "+-----------+----------+--------------+--------------------+----------------------+---------------------------------+-----------------------------------+"
      ]
     },
     "metadata": {},
     "output_type": "display_data"
    },
    {
     "name": "stdout",
     "output_type": "stream",
     "text": [
      "Training RMSE: 7.035656808174865\n",
      "Validation RMSE: 8.319543372204057\n"
     ]
    },
    {
     "data": {
      "text/html": [
       "<pre>SUCCESS: Optimal solution found.</pre>"
      ],
      "text/plain": [
       "SUCCESS: Optimal solution found."
      ]
     },
     "metadata": {},
     "output_type": "display_data"
    },
    {
     "data": {
      "text/html": [
       "<pre></pre>"
      ],
      "text/plain": []
     },
     "metadata": {},
     "output_type": "display_data"
    }
   ],
   "source": [
    "model3r = tc.linear_regression.create(train_data, target='T', features=['R', 'V', 'R^2', 'V^2', 'R^3', 'V^3'], validation_set=validation_data, l2_penalty=0.1, l1_penalty=0.0)\n",
    "\n",
    "train_rmse = model3r.evaluate(train_data)['rmse']\n",
    "validation_rmse = model3r.evaluate(validation_data)['rmse']\n",
    "\n",
    "print(\"Training RMSE:\", train_rmse)\n",
    "print(\"Validation RMSE:\", validation_rmse)"
   ]
  },
  {
   "cell_type": "markdown",
   "id": "92059d6a-61f5-4eb5-a6f3-f16f60fe1de0",
   "metadata": {},
   "source": [
    "# Step 9:"
   ]
  },
  {
   "cell_type": "code",
   "execution_count": 13,
   "id": "ef73f35a-9fcc-4eae-b8a7-a2f3a3fe728d",
   "metadata": {},
   "outputs": [
    {
     "name": "stdout",
     "output_type": "stream",
     "text": [
      "Testing RMSE of the best model: 7.9384618564058265\n"
     ]
    }
   ],
   "source": [
    "best_model = model3r  # Assume this is the best model from previous comparisons\n",
    "test_rmse = best_model.evaluate(test_data)['rmse']\n",
    "print(\"Testing RMSE of the best model:\", test_rmse)\n"
   ]
  },
  {
   "attachments": {},
   "cell_type": "markdown",
   "id": "55c86104-04db-4eed-9590-028c8ab5e24f",
   "metadata": {},
   "source": [
    "### RMSE gives us better understanding how our model performs.\n",
    "\n",
    "\n"
   ]
  },
  {
   "cell_type": "code",
   "execution_count": null,
   "id": "daf0f2cb-e4b1-43fd-84a1-e988d408a39e",
   "metadata": {},
   "outputs": [],
   "source": []
  }
 ],
 "metadata": {
  "kernelspec": {
   "display_name": "Python 3 (ipykernel)",
   "language": "python",
   "name": "python3"
  },
  "language_info": {
   "codemirror_mode": {
    "name": "ipython",
    "version": 3
   },
   "file_extension": ".py",
   "mimetype": "text/x-python",
   "name": "python",
   "nbconvert_exporter": "python",
   "pygments_lexer": "ipython3",
   "version": "3.8.19"
  }
 },
 "nbformat": 4,
 "nbformat_minor": 5
}
